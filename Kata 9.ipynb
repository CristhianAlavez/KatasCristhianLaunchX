{
 "cells": [
  {
   "cell_type": "markdown",
   "metadata": {},
   "source": [
    "Ejercicio 1: Trabajar con argumentos en funciones"
   ]
  },
  {
   "cell_type": "code",
   "execution_count": 18,
   "metadata": {},
   "outputs": [],
   "source": [
    "# Función para leer 3 tanques de combustible y muestre el promedio\n",
    "def tanques_combustible (tanque_uno,tanque_dos,tanque_tres) :\n",
    "    print(f'El tanque de combustible 1 tiene: {tanque_uno}')\n",
    "    print(f'El tanque de combustible 2 tiene: {tanque_dos}')\n",
    "    print(f'El tanque de combustible 3 tiene: {tanque_tres}')\n",
    "    promedio = (tanque_uno + tanque_dos + tanque_tres)/3\n",
    "    print(f'El promedio de combustible en los tanques es:')\n",
    "    return promedio"
   ]
  },
  {
   "cell_type": "code",
   "execution_count": 19,
   "metadata": {},
   "outputs": [
    {
     "name": "stdout",
     "output_type": "stream",
     "text": [
      "El tanque de combustible 1 tiene: 3\n",
      "El tanque de combustible 2 tiene: 9\n",
      "El tanque de combustible 3 tiene: 3\n",
      "El promedio de combustible en los tanques es:\n",
      "5.0\n"
     ]
    }
   ],
   "source": [
    "# Llamamos a la función que genera el reporte print(funcion(tanque1, tanque2, tanque3))\n",
    "\n",
    "print(tanques_combustible(3,9,3))"
   ]
  },
  {
   "cell_type": "code",
   "execution_count": 38,
   "metadata": {},
   "outputs": [],
   "source": [
    "def tanques_combustible (tanque_uno,tanque_dos,tanque_tres) :\n",
    "    print(f'El tanque de combustible 1 tiene: {tanque_uno}')\n",
    "    print(f'El tanque de combustible 2 tiene: {tanque_dos}')\n",
    "    print(f'El tanque de combustible 3 tiene: {tanque_tres}')\n",
    "    promedio = (tanque_uno + tanque_dos + tanque_tres)/3\n",
    "    print('El promedio de combustible en los tanques es:')\n",
    "    return promedio"
   ]
  },
  {
   "cell_type": "code",
   "execution_count": 39,
   "metadata": {},
   "outputs": [
    {
     "name": "stdout",
     "output_type": "stream",
     "text": [
      "El tanque de combustible 1 tiene: 1\n",
      "El tanque de combustible 2 tiene: 2\n",
      "El tanque de combustible 3 tiene: 3\n",
      "El promedio de combustible en los tanques es:\n"
     ]
    },
    {
     "data": {
      "text/plain": [
       "2.0"
      ]
     },
     "execution_count": 39,
     "metadata": {},
     "output_type": "execute_result"
    }
   ],
   "source": [
    "tanques_combustible(1,2,3)"
   ]
  },
  {
   "cell_type": "code",
   "execution_count": 32,
   "metadata": {},
   "outputs": [],
   "source": [
    "def promedio(cantidades):\n",
    "    total = sum(cantidades)\n",
    "    tanques = len(cantidades)\n",
    "    return total / tanques"
   ]
  },
  {
   "cell_type": "code",
   "execution_count": 45,
   "metadata": {},
   "outputs": [],
   "source": [
    "def tanques_combustible (tanque_uno,tanque_dos,tanque_tres) :\n",
    "    return f\"\"\" Reporte de combustible:\n",
    "    El promedio de combustible en los tanques es: {promedio([tanque_uno,tanque_dos,tanque_tres])}\n",
    "    El tanque de combustible 1 tiene: {tanque_uno}\n",
    "    El tanque de combustible 2 tiene: {tanque_dos}\n",
    "    El tanque de combustible 3 tiene: {tanque_tres}\n",
    "   \n",
    "    \"\"\""
   ]
  },
  {
   "cell_type": "code",
   "execution_count": 48,
   "metadata": {},
   "outputs": [
    {
     "name": "stdout",
     "output_type": "stream",
     "text": [
      " Reporte de combustible:\n",
      "    El promedio de combustible en los tanques es: 9.0\n",
      "    El tanque de combustible 1 tiene: 9\n",
      "    El tanque de combustible 2 tiene: 3\n",
      "    El tanque de combustible 3 tiene: 15\n",
      "   \n",
      "    \n"
     ]
    }
   ],
   "source": [
    "print (tanques_combustible(9,3,15))"
   ]
  },
  {
   "cell_type": "markdown",
   "metadata": {},
   "source": [
    "Ejercicio 2: Trabajo con argumentos de palabra clave"
   ]
  },
  {
   "cell_type": "code",
   "execution_count": 2,
   "metadata": {},
   "outputs": [
    {
     "name": "stdout",
     "output_type": "stream",
     "text": [
      "\n",
      "    Destino de la misión Tierra\n",
      "    Tiempo de viaje: 69 minutos\n",
      "    Combustible: 140\n",
      "    \n"
     ]
    }
   ],
   "source": [
    "# Función con un informe preciso de la misión. Considera hora de prelanzamiento, tiempo de vuelo, destino, tanque externo y tanque interno\n",
    "\n",
    "def informe(prelanzamiento, vuelo, destino, tanque_externo, tanque_interno):\n",
    "    return f\"\"\"\n",
    "    Destino de la misión {destino}\n",
    "    Tiempo de viaje: {prelanzamiento + vuelo} minutos\n",
    "    Combustible: {tanque_externo + tanque_interno}\n",
    "    \"\"\"\n",
    "\n",
    "print(informe(12, 57, \"Tierra\", 50, 90))"
   ]
  },
  {
   "cell_type": "code",
   "execution_count": 7,
   "metadata": {},
   "outputs": [
    {
     "name": "stdout",
     "output_type": "stream",
     "text": [
      "\n",
      "    Destino de la misión Tierra\n",
      "    Tiempo de viaje: 89 minutos\n",
      "    Combustible: 610\n",
      "    \n"
     ]
    }
   ],
   "source": [
    "# Escribe tu nueva función de reporte considerando lo anterior\n",
    "\n",
    "def informe(destino, *minutos, **reserva):\n",
    "    return f\"\"\"\n",
    "    Destino de la misión {destino}\n",
    "    Tiempo de viaje: {sum(minutos)} minutos\n",
    "    Combustible: {sum(reserva.values())}\n",
    "    \"\"\"\n",
    "\n",
    "print(informe(\"Tierra\", 23, 34, 32, interno=250, externo=360))"
   ]
  },
  {
   "cell_type": "code",
   "execution_count": 16,
   "metadata": {},
   "outputs": [
    {
     "name": "stdout",
     "output_type": "stream",
     "text": [
      "\n",
      "    Destino de la misión Tierra\n",
      "    Tiempo de viaje: 48 minutos\n",
      "    Combustible: 768\n",
      "    interno tanque --> 256 galones\n",
      "externo tanque --> 512 galones\n",
      "\n"
     ]
    }
   ],
   "source": [
    "# Escribe tu nueva función\n",
    "\n",
    "def informe(destino, *minutos, **reserva):\n",
    "    reporte = f\"\"\"\n",
    "    Destino de la misión {destino}\n",
    "    Tiempo de viaje: {sum(minutos)} minutos\n",
    "    Combustible: {sum(reserva.values())}\n",
    "    \"\"\"\n",
    "    for tanque, galones in reserva.items():\n",
    "        reporte += f\"{tanque} tanque --> {galones} galones\\n\"\n",
    "    return reporte\n",
    "\n",
    "print(informe(\"Tierra\", 23, 12, 13, interno=256, externo=512))"
   ]
  }
 ],
 "metadata": {
  "interpreter": {
   "hash": "1ec2326bc119e1b598ed28905be5aab5712725690574507d52dc50ffaca93233"
  },
  "kernelspec": {
   "display_name": "Python 3.10.2 64-bit",
   "language": "python",
   "name": "python3"
  },
  "language_info": {
   "codemirror_mode": {
    "name": "ipython",
    "version": 3
   },
   "file_extension": ".py",
   "mimetype": "text/x-python",
   "name": "python",
   "nbconvert_exporter": "python",
   "pygments_lexer": "ipython3",
   "version": "3.10.2"
  },
  "orig_nbformat": 4
 },
 "nbformat": 4,
 "nbformat_minor": 2
}
