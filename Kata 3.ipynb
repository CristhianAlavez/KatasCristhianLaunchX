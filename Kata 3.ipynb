{
 "cells": [
  {
   "cell_type": "code",
   "execution_count": 1,
   "metadata": {},
   "outputs": [
    {
     "name": "stdout",
     "output_type": "stream",
     "text": [
      "Se acerca un asteroide demasiado rápido\n"
     ]
    }
   ],
   "source": [
    "# Añadir el código necesario para crear una variable que guarde la velocidad del asteroide.\n",
    "velocidad = 49\n",
    "# Escribe una expresión de prueba para calcular si necesita una advertencia.\n",
    "if velocidad > 25:\n",
    "# Agregue las instrucciones que se ejecutarán si la expresión de prueba es true o false.\n",
    "    print(\"Se acerca un asteroide demasiado rápido\")\n",
    "else:\n",
    "    print(\"Todo en calma\")"
   ]
  },
  {
   "cell_type": "code",
   "execution_count": 3,
   "metadata": {},
   "outputs": [
    {
     "name": "stdout",
     "output_type": "stream",
     "text": [
      "No hay asteroides a la vista\n"
     ]
    }
   ],
   "source": [
    "# Agrega el código para crear una variable para un asteroide que viaja a 19 km/s\n",
    "velocidad = 19\n",
    "# Escribe varias expresiones de prueba para determinar si puedes ver el rayo de luz desde la tierra\n",
    "if velocidad > 20:\n",
    "# Agrega las instrucciones que se ejecutarán si las expresiones de prueba son True o False\n",
    "    print(\"Personas del mundo, ¡busquen un asteroide en el cielo!\")\n",
    "elif velocidad == 20:\n",
    "    print(\"Personas del mundo, ¡busquen un asteroide en el cielo!\")\n",
    "else:\n",
    "    print(\"No hay asteroides a la vista\")\n"
   ]
  },
  {
   "cell_type": "code",
   "execution_count": 6,
   "metadata": {},
   "outputs": [
    {
     "name": "stdout",
     "output_type": "stream",
     "text": [
      "Personas del mundo, ¡busquen un asteroide en el cielo!\n"
     ]
    }
   ],
   "source": [
    "# Agrega el código para crear nuevas variables para la velocidad y el tamaño del asteroide.\n",
    "dimension = 25\n",
    "velocidad = 26\n",
    "# Para probar el código, prueba con varias velocidades y tamaños.\n",
    "# Escribe varias expresiones de prueba o combinaciones de expresiones de prueba para determinar qué mensaje se debe enviar a Tierra.\n",
    "if dimension > 25 and velocidad > 25:\n",
    "    print(\"Un asteroide causará mucho daño!\")\n",
    "elif velocidad >= 20:\n",
    "    print(\"Personas del mundo, ¡busquen un asteroide en el cielo!\")\n",
    "elif dimension < 25:\n",
    "    print(\"No hay asteroides a la vista\")\n",
    "else:\n",
    "    print(\"No hay asteroides a la vista\")"
   ]
  }
 ],
 "metadata": {
  "interpreter": {
   "hash": "1ec2326bc119e1b598ed28905be5aab5712725690574507d52dc50ffaca93233"
  },
  "kernelspec": {
   "display_name": "Python 3.10.2 64-bit",
   "language": "python",
   "name": "python3"
  },
  "language_info": {
   "codemirror_mode": {
    "name": "ipython",
    "version": 3
   },
   "file_extension": ".py",
   "mimetype": "text/x-python",
   "name": "python",
   "nbconvert_exporter": "python",
   "pygments_lexer": "ipython3",
   "version": "3.10.2"
  },
  "orig_nbformat": 4
 },
 "nbformat": 4,
 "nbformat_minor": 2
}
